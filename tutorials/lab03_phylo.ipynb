{
  "nbformat": 4,
  "nbformat_minor": 0,
  "metadata": {
    "colab": {
      "name": "lab03_phylo.ipynb",
      "provenance": [],
      "collapsed_sections": [],
      "toc_visible": true,
      "include_colab_link": true
    },
    "kernelspec": {
      "name": "python3",
      "display_name": "Python 3"
    }
  },
  "cells": [
    {
      "cell_type": "markdown",
      "metadata": {
        "id": "view-in-github",
        "colab_type": "text"
      },
      "source": [
        "<a href=\"https://colab.research.google.com/github/hkprasad/Making-it-rain/blob/gh-pages/tutorials/lab03_phylo.ipynb\" target=\"_parent\"><img src=\"https://colab.research.google.com/assets/colab-badge.svg\" alt=\"Open In Colab\"/></a>"
      ]
    },
    {
      "cell_type": "markdown",
      "metadata": {
        "id": "PrWazTVfeHMf"
      },
      "source": [
        "#Lab.03 / IBM3202 – Phylogenetic Analysis using biopython and RAxML"
      ]
    },
    {
      "cell_type": "markdown",
      "metadata": {
        "id": "IA9WmdJLeQRm"
      },
      "source": [
        "## Theoretical Aspects "
      ]
    },
    {
      "cell_type": "markdown",
      "metadata": {
        "id": "spFpaC5lenug"
      },
      "source": [
        "Phylogenetic analysis lies at the core of genomics and bioinformatics and seeks to establish the evolutionary relationships between different homologous DNA or protein sequences and their ancestral sequences (common ancestors) from which they emerge. A typical result from a phylogenetic analysis is a **phylogenetic tree**, such as the following:"
      ]
    },
    {
      "cell_type": "markdown",
      "metadata": {
        "id": "Gh6BAOK51POj"
      },
      "source": [
        "<figure>\n",
        "<center>\n",
        "<img src='https://raw.githubusercontent.com/pb3lab/ibm3202/master/images/phylo_01.png' width=500/>\n",
        "<figcaption>FIGURE 1. A phylogenetic tree visually represents a hypothesis of how a group of sequences\n",
        "are related. This figure explores how the way a tree is drawn conveys information. This tree shows how the seven sequences at the tips of the branches, called taxa, are related. Each horizontal branch represents an evolutionary\n",
        "lineage. The length of the branch is arbitrary\n",
        "unless the diagram specifies that branch lengths\n",
        "represent information such as time or amount of\n",
        "genetic change. Each branch point represents the common ancestor of the evolutionary lineages diverging from it. One of these branch points represents the common ancestor of all the sequences shown in this tree.\n",
        "<br>Urry LA et al (2020). Campbell Biology. <i>Pearson Education, 12th Ed</i></figcaption></center>\n",
        "</figure>"
      ]
    },
    {
      "cell_type": "markdown",
      "metadata": {
        "id": "lrMsCuYTe8Us"
      },
      "source": [
        "In this representation, the tips of the tree (or the leaves) correspond to different, currently existing sequences of genes or proteins (usually called the **taxa**), thus they represent real data. The **nodes** or branch points connecting two sequences are the points of divergence in sequence evolution, namely **common ancestors** of extant taxa. The connection of two or more sequences with a hypothetical, extinct ancestral sequence allows grouping actual sequences into **clades**. On the other hand, the branch lengths represent the evolutionary changes between an ancestor and its descendant. Please notice that we are saying **'sequences'** and not **'species'**, as such statement requires the assumption of genetic isolation (i.e. all sequences in a given species show the same evolutionary drifts, but we learn from lectures that we can have horizontal gene transfer, right?)."
      ]
    },
    {
      "cell_type": "markdown",
      "metadata": {
        "id": "-dQoKNt5fNFO"
      },
      "source": [
        "Many things can be said about this tree. First, a **phylogenetic tree** is based on a multiple sequence alignment and thus it is **as good as the alignment is**. See for example the polytomy in the ancestral node connecting taxa D, E and F; the sequence information between these sequences did not allow discerning how these sequences evolved from a common ancestor (i.e. imagine that there were two mutations and the phylogenetic analysis does not know which one comes first or second).\n",
        "\n",
        "Second, taxon G is defined as a **basal taxon**, a lineage that diverges from all other members of its group early in the history of the group.\n",
        "\n",
        "Lastly, the phylogenetic tree is **rooted** through an **outgroup**, i.e. a sequence (or a group or sequences) that is more distantly related to the ingroup sequences than the ingroup sequences are to each other; a distant homolog. As an outgroup sequence is not easy to define for all phylogenetic inferences, a vast number of phylogenetic trees in the literature are **unrooted** (i.e. there is no outgroup)."
      ]
    },
    {
      "cell_type": "markdown",
      "metadata": {
        "id": "hMLCidtMfd7E"
      },
      "source": [
        "A phylogenetic tree is an estimation of the possible routes of evolution from ancestral lineages to present-day sequences that depends on many variables. We will smoothly go through all the steps of this inference, from sequence alignment to the “resurrection” of the most probable ancestral sequence."
      ]
    },
    {
      "cell_type": "markdown",
      "metadata": {
        "id": "5_sRCGKuf8Bf"
      },
      "source": [
        "## Overview"
      ]
    },
    {
      "cell_type": "markdown",
      "metadata": {
        "id": "XMdhm8X_f_XN"
      },
      "source": [
        "In this tutorial we will work with the family of forkhead box (Fox) transcription factors, a protein family that we currently study in our lab [Medina E et al (2016) *Biophys J 110 (11), 2349-2360*; Medina E et (2020) *J Mol Biol 432(19), 5411-5429*].\n",
        "\n",
        "These proteins are master controllers of gene expression in several eukaryotes since early *Bilateria*, and recently it has been determined that they also participate in chromosome remodeling since their structure is similar to the structure of histones. In humans, there are 19 different Fox subfamilies (from A to S), with almost all of them corresponding to monomeric proteins, except for FoxP. The members of the FoxP subfamily are known to form dimers to allow forming long-distance chromosome interactions due to a key Pro-to-Ala mutation in their sequence (see below)."
      ]
    },
    {
      "cell_type": "markdown",
      "metadata": {
        "id": "OHm2i0I071U3"
      },
      "source": [
        "<figure>\n",
        "<center>\n",
        "<img src='https://raw.githubusercontent.com/pb3lab/ibm3202/master/images/phylo_02.png'/>\n",
        "<figcaption>FIGURE 2. Sequence determinants of the structural acrobatics of the DNA-binding domain of human FoxP transcription factors. The left panel shows how FoxP proteins oligomerize by exchanging identical secondary structure elements between adjacent subunits, a mechanism known as domain swapping. An experimentally validated key Ala residue that enables domain swapping is indicated, which has been demonstrated to be conserved in all human FoxP proteins and replaced by Pro in all monomeric Fox members, as shown in the multiple sequence alignment on the right.\n",
        "<br> Medina E et al (2016) <i>Biophys J 110 (11), 2349-2360</i>; Stroud JC et al (2008) <i>Structure 14(1), 159-66</i></figcaption></center>\n",
        "</figure>"
      ]
    },
    {
      "cell_type": "markdown",
      "metadata": {
        "id": "QLCIaTFBgTcY"
      },
      "source": [
        "Today, we will infer where did the evolutionary novelty of forming dimers emerged during the\n",
        "evolution of Fox proteins using **RAxML** (Randomized Axelerated Maximum Likelihood), a popular program for phylogenetic analyses of large datasets under maximum likelihood."
      ]
    },
    {
      "cell_type": "markdown",
      "metadata": {
        "id": "buTRd47h4QfK"
      },
      "source": [
        "#Part 0. Downloading and Installing the required software"
      ]
    },
    {
      "cell_type": "markdown",
      "metadata": {
        "id": "KSAoowL_4XIV"
      },
      "source": [
        "Before we start, you must first **remember to start the hosted runtime in Google Colab**.\n",
        "\n",
        "Then, we must install several pieces of software to perform this tutorial. Namely:\n",
        "- **biopython** for searching, retrieving, parsing and storing DNA and protein sequences.\n",
        "- **MAFFT**, a multiple sequence alignment program for unix-like operating systems that offers a range of multiple alignment methods.\n",
        "- **miniconda**, a free minimal installer of **conda** for software package and environment management.\n",
        "- **ModelTest-ng**, a tool for selecting the best-fit model of evolution for DNA and protein alignments.\n",
        "- **RAxML-ng**, a phylogenetic tree inference tool which uses maximum-likelihood (ML) optimality criterion.\n",
        "\n",
        "After several tests, the following installation instructions are the best way of setting up **Google Colab** for this laboratory session.\n",
        "\n",
        "1. We will first install biopython as follows:"
      ]
    },
    {
      "cell_type": "code",
      "metadata": {
        "id": "PdWvUiMR38gO"
      },
      "source": [
        "#Installing biopython using pip\n",
        "!pip install biopython"
      ],
      "execution_count": null,
      "outputs": []
    },
    {
      "cell_type": "code",
      "metadata": {
        "id": "e3NwRC9A58AN"
      },
      "source": [
        "#Importing biopython and os for safety\n",
        "import os\n",
        "import sys\n",
        "import Bio"
      ],
      "execution_count": null,
      "outputs": []
    },
    {
      "cell_type": "markdown",
      "metadata": {
        "id": "-6_wBK035ZW_"
      },
      "source": [
        "2. Then, we will install MAFFT:"
      ]
    },
    {
      "cell_type": "code",
      "metadata": {
        "id": "H18SXwk5rikC"
      },
      "source": [
        "#Installing MAFFT using apt-get\n",
        "!apt-get install -y mafft"
      ],
      "execution_count": null,
      "outputs": []
    },
    {
      "cell_type": "code",
      "metadata": {
        "id": "umwoV7oR5-nH"
      },
      "source": [
        "#Checking that MAFFT was succesfully installed\n",
        "!mafft --help"
      ],
      "execution_count": null,
      "outputs": []
    },
    {
      "cell_type": "markdown",
      "metadata": {
        "id": "Goex7fGQTmcR"
      },
      "source": [
        "3. Finally, we will install conda to be able to install RAxML-NG and ModelTest-NG as follows:"
      ]
    },
    {
      "cell_type": "code",
      "metadata": {
        "id": "i7x5g0HGxwpB",
        "colab": {
          "base_uri": "https://localhost:8080/"
        },
        "outputId": "ab8f27dd-5514-4b36-9a35-956c0bf5accc"
      },
      "source": [
        "#Install miniconda\n",
        "!wget https://repo.continuum.io/miniconda/Miniconda3-4.5.4-Linux-x86_64.sh\n",
        "!bash Miniconda3-4.5.4-Linux-x86_64.sh -bfp /usr/local\n",
        "import sys\n",
        "sys.path.append('/usr/local/lib/python3.6/site-packages')\n",
        "\n",
        "#Install RAxML-NG and ModelTest-NG from\n",
        "#the bioconda repository\n",
        "!conda install -c bioconda raxml-ng modeltest-ng --yes\n",
        "\n",
        "#MAFFT could be also installed with conda\n",
        "#using !conda install -c bioconda -y mafft\n",
        "#We opted for apt-get instead"
      ],
      "execution_count": 1,
      "outputs": [
        {
          "output_type": "stream",
          "text": [
            "--2021-08-22 15:08:07--  https://repo.continuum.io/miniconda/Miniconda3-4.5.4-Linux-x86_64.sh\n",
            "Resolving repo.continuum.io (repo.continuum.io)... 104.18.200.79, 104.18.201.79, 2606:4700::6812:c94f, ...\n",
            "Connecting to repo.continuum.io (repo.continuum.io)|104.18.200.79|:443... connected.\n",
            "HTTP request sent, awaiting response... 301 Moved Permanently\n",
            "Location: https://repo.anaconda.com/miniconda/Miniconda3-4.5.4-Linux-x86_64.sh [following]\n",
            "--2021-08-22 15:08:07--  https://repo.anaconda.com/miniconda/Miniconda3-4.5.4-Linux-x86_64.sh\n",
            "Resolving repo.anaconda.com (repo.anaconda.com)... 104.16.131.3, 104.16.130.3, 2606:4700::6810:8203, ...\n",
            "Connecting to repo.anaconda.com (repo.anaconda.com)|104.16.131.3|:443... connected.\n",
            "HTTP request sent, awaiting response... 200 OK\n",
            "Length: 58468498 (56M) [application/x-sh]\n",
            "Saving to: ‘Miniconda3-4.5.4-Linux-x86_64.sh’\n",
            "\n",
            "Miniconda3-4.5.4-Li 100%[===================>]  55.76M   128MB/s    in 0.4s    \n",
            "\n",
            "2021-08-22 15:08:07 (128 MB/s) - ‘Miniconda3-4.5.4-Linux-x86_64.sh’ saved [58468498/58468498]\n",
            "\n",
            "PREFIX=/usr/local\n",
            "installing: python-3.6.5-hc3d631a_2 ...\n",
            "Python 3.6.5 :: Anaconda, Inc.\n",
            "installing: ca-certificates-2018.03.07-0 ...\n",
            "installing: conda-env-2.6.0-h36134e3_1 ...\n",
            "installing: libgcc-ng-7.2.0-hdf63c60_3 ...\n",
            "installing: libstdcxx-ng-7.2.0-hdf63c60_3 ...\n",
            "installing: libffi-3.2.1-hd88cf55_4 ...\n",
            "installing: ncurses-6.1-hf484d3e_0 ...\n",
            "installing: openssl-1.0.2o-h20670df_0 ...\n",
            "installing: tk-8.6.7-hc745277_3 ...\n",
            "installing: xz-5.2.4-h14c3975_4 ...\n",
            "installing: yaml-0.1.7-had09818_2 ...\n",
            "installing: zlib-1.2.11-ha838bed_2 ...\n",
            "installing: libedit-3.1.20170329-h6b74fdf_2 ...\n",
            "installing: readline-7.0-ha6073c6_4 ...\n",
            "installing: sqlite-3.23.1-he433501_0 ...\n",
            "installing: asn1crypto-0.24.0-py36_0 ...\n",
            "installing: certifi-2018.4.16-py36_0 ...\n",
            "installing: chardet-3.0.4-py36h0f667ec_1 ...\n",
            "installing: idna-2.6-py36h82fb2a8_1 ...\n",
            "installing: pycosat-0.6.3-py36h0a5515d_0 ...\n",
            "installing: pycparser-2.18-py36hf9f622e_1 ...\n",
            "installing: pysocks-1.6.8-py36_0 ...\n",
            "installing: ruamel_yaml-0.15.37-py36h14c3975_2 ...\n",
            "installing: six-1.11.0-py36h372c433_1 ...\n",
            "installing: cffi-1.11.5-py36h9745a5d_0 ...\n",
            "installing: setuptools-39.2.0-py36_0 ...\n",
            "installing: cryptography-2.2.2-py36h14c3975_0 ...\n",
            "installing: wheel-0.31.1-py36_0 ...\n",
            "installing: pip-10.0.1-py36_0 ...\n",
            "installing: pyopenssl-18.0.0-py36_0 ...\n",
            "installing: urllib3-1.22-py36hbe7ace6_0 ...\n",
            "installing: requests-2.18.4-py36he2e5f8d_1 ...\n",
            "installing: conda-4.5.4-py36_0 ...\n",
            "installation finished.\n",
            "WARNING:\n",
            "    You currently have a PYTHONPATH environment variable set. This may cause\n",
            "    unexpected behavior when running the Python interpreter in Miniconda3.\n",
            "    For best results, please verify that your PYTHONPATH only points to\n",
            "    directories of packages that are compatible with the Python interpreter\n",
            "    in Miniconda3: /usr/local\n",
            "Solving environment: - \b\b\\ \b\b| \b\b/ \b\b- \b\b\\ \b\b| \b\b/ \b\b- \b\b\\ \b\b| \b\b/ \b\b- \b\b\\ \b\b| \b\b/ \b\b- \b\b\\ \b\b| \b\b/ \b\b- \b\b\\ \b\b| \b\b/ \b\b- \b\b\\ \b\b| \b\b/ \b\b- \b\b\\ \b\b| \b\b/ \b\b- \b\b\\ \b\b| \b\b/ \b\b- \b\b\\ \b\b| \b\b/ \b\b- \b\b\\ \b\b| \b\b/ \b\b- \b\b\\ \b\b| \b\b/ \b\b- \b\b\\ \b\b| \b\b/ \b\b- \b\b\\ \b\b| \b\b/ \b\b- \b\b\\ \b\b| \b\b/ \b\b- \b\b\\ \b\b| \b\b/ \b\b- \b\b\\ \b\b| \b\b/ \b\b- \b\b\\ \b\b| \b\b/ \b\b- \b\b\\ \b\b| \b\b/ \b\b- \b\b\\ \b\b| \b\b/ \b\b- \b\b\\ \b\b| \b\b/ \b\b- \b\b\\ \b\b| \b\b/ \b\b- \b\b\\ \b\b| \b\b/ \b\b- \b\b\\ \b\b| \b\b/ \b\b- \b\b\\ \b\b| \b\b/ \b\b- \b\b\\ \b\b| \b\b/ \b\b- \b\b\\ \b\b| \b\b/ \b\b- \b\b\\ \b\b| \b\b/ \b\b- \b\b\\ \b\b| \b\b/ \b\b- \b\b\\ \b\b| \b\b/ \b\b- \b\b\\ \b\b| \b\b/ \b\b- \b\b\\ \b\b| \b\b/ \b\b- \b\b\\ \b\b| \b\b/ \b\b- \b\b\\ \b\b| \b\b/ \b\b- \b\b\\ \b\b| \b\b/ \b\b- \b\b\\ \b\b| \b\b/ \b\b- \b\b\\ \b\b| \b\b/ \b\b- \b\b\\ \b\b| \b\b/ \b\b- \b\b\\ \b\b| \b\b/ \b\b- \b\b\\ \b\b| \b\b/ \b\b- \b\b\\ \b\b| \b\b/ \b\b- \b\b\\ \b\b| \b\b/ \b\b- \b\b\\ \b\b| \b\b/ \b\b- \b\b\\ \b\b| \b\b/ \b\b- \b\b\\ \b\b| \b\b/ \b\b- \b\b\\ \b\b| \b\b/ \b\b- \b\b\\ \b\b| \b\b/ \b\b- \b\b\\ \b\b| \b\b/ \b\b- \b\b\\ \b\b| \b\b/ \b\b- \b\b\\ \b\b| \b\b/ \b\b- \b\b\\ \b\b| \b\b/ \b\b- \b\b\\ \b\b| \b\b/ \b\b- \b\b\\ \b\b| \b\b/ \b\b- \b\b\\ \b\b| \b\b/ \b\b- \b\b\\ \b\bdone\n",
            "\n",
            "\n",
            "==> WARNING: A newer version of conda exists. <==\n",
            "  current version: 4.5.4\n",
            "  latest version: 4.10.3\n",
            "\n",
            "Please update conda by running\n",
            "\n",
            "    $ conda update -n base conda\n",
            "\n",
            "\n",
            "\n",
            "## Package Plan ##\n",
            "\n",
            "  environment location: /usr/local\n",
            "\n",
            "  added / updated specs: \n",
            "    - modeltest-ng\n",
            "    - raxml-ng\n",
            "\n",
            "\n",
            "The following packages will be downloaded:\n",
            "\n",
            "    package                    |            build\n",
            "    ---------------------------|-----------------\n",
            "    ca-certificates-2021.7.5   |       h06a4308_1         119 KB\n",
            "    openmpi-4.0.2              |       hb1b8bf9_1         3.9 MB\n",
            "    modeltest-ng-0.1.6         |       h78e549b_0         2.5 MB  bioconda\n",
            "    zlib-1.2.11                |       h7b6447c_3         120 KB\n",
            "    libstdcxx-ng-9.1.0         |       hdf63c60_0         4.0 MB\n",
            "    raxml-ng-0.9.0             |       h192cbe9_1         1.5 MB  bioconda\n",
            "    mpi-1.0                    |          openmpi           6 KB\n",
            "    _libgcc_mutex-0.1          |             main           3 KB\n",
            "    libgcc-ng-9.1.0            |       hdf63c60_0         8.1 MB\n",
            "    gmp-6.2.1                  |       h2531618_2         814 KB\n",
            "    libgfortran-ng-7.3.0       |       hdf63c60_0         1.3 MB\n",
            "    ------------------------------------------------------------\n",
            "                                           Total:        22.4 MB\n",
            "\n",
            "The following NEW packages will be INSTALLED:\n",
            "\n",
            "    _libgcc_mutex:   0.1-main                  \n",
            "    gmp:             6.2.1-h2531618_2          \n",
            "    libgfortran-ng:  7.3.0-hdf63c60_0          \n",
            "    modeltest-ng:    0.1.6-h78e549b_0  bioconda\n",
            "    mpi:             1.0-openmpi               \n",
            "    openmpi:         4.0.2-hb1b8bf9_1          \n",
            "    raxml-ng:        0.9.0-h192cbe9_1  bioconda\n",
            "\n",
            "The following packages will be UPDATED:\n",
            "\n",
            "    ca-certificates: 2018.03.07-0               --> 2021.7.5-h06a4308_1\n",
            "    libgcc-ng:       7.2.0-hdf63c60_3           --> 9.1.0-hdf63c60_0   \n",
            "    libstdcxx-ng:    7.2.0-hdf63c60_3           --> 9.1.0-hdf63c60_0   \n",
            "    zlib:            1.2.11-ha838bed_2          --> 1.2.11-h7b6447c_3  \n",
            "\n",
            "\n",
            "Downloading and Extracting Packages\n",
            "ca-certificates-2021 |  119 KB | : 100% 1.0/1 [00:00<00:00, 23.65it/s]\n",
            "openmpi-4.0.2        |  3.9 MB | : 100% 1.0/1 [00:00<00:00,  1.14it/s]               \n",
            "modeltest-ng-0.1.6   |  2.5 MB | : 100% 1.0/1 [00:00<00:00,  1.63it/s]               \n",
            "zlib-1.2.11          |  120 KB | : 100% 1.0/1 [00:00<00:00, 21.28it/s]\n",
            "libstdcxx-ng-9.1.0   |  4.0 MB | : 100% 1.0/1 [00:00<00:00,  1.62it/s]               \n",
            "raxml-ng-0.9.0       |  1.5 MB | : 100% 1.0/1 [00:00<00:00,  3.71it/s]               \n",
            "mpi-1.0              |    6 KB | : 100% 1.0/1 [00:00<00:00, 24.39it/s]\n",
            "_libgcc_mutex-0.1    |    3 KB | : 100% 1.0/1 [00:00<00:00, 42.70it/s]\n",
            "libgcc-ng-9.1.0      |  8.1 MB | : 100% 1.0/1 [00:01<00:00,  1.27s/it]               \n",
            "gmp-6.2.1            |  814 KB | : 100% 1.0/1 [00:00<00:00,  6.27it/s]               \n",
            "libgfortran-ng-7.3.0 |  1.3 MB | : 100% 1.0/1 [00:00<00:00,  3.86it/s]               \n",
            "Preparing transaction: / \b\bdone\n",
            "Verifying transaction: \\ \b\b| \b\b/ \b\b- \b\bdone\n",
            "Executing transaction: | \b\bdone\n"
          ],
          "name": "stdout"
        }
      ]
    },
    {
      "cell_type": "markdown",
      "metadata": {
        "id": "B4da3gT4hlfd"
      },
      "source": [
        "#Part I - Retrieve Fox protein sequences using BLAST"
      ]
    },
    {
      "cell_type": "markdown",
      "metadata": {
        "id": "yBI5vVxLBss5"
      },
      "source": [
        "Here, we will present two different options to retrieve Fox protein sequences.\n",
        "1. Retrieving protein sequences using the web version of BLAST\n",
        "2. Retrieving protein sequences using BLAST over biopython"
      ]
    },
    {
      "cell_type": "markdown",
      "metadata": {
        "id": "h2yIMMBtB9ml"
      },
      "source": [
        "##Part I.A - Retrieve Fox protein sequences using the web version of BLAST"
      ]
    },
    {
      "cell_type": "markdown",
      "metadata": {
        "id": "KTbnS1RchwbY"
      },
      "source": [
        "1. We will begin by opening a new window with [BLAST](https://blast.ncbi.nlm.nih.gov/Blast.cgi). Here, select **blastp** for protein sequences. Then, in the *“Enter accession number(s), gi(s) or FASTA sequence(s)”* box, write **2KIU_A**.\n",
        "\n",
        "  Also, we will indicate BLAST to only search for human sequences (**Search Set** option **Organism: humans**) from the Protein Data Bank (**Search Set** option **Database: Protein Data Bank (pdb)**), as shown below."
      ]
    },
    {
      "cell_type": "markdown",
      "metadata": {
        "id": "r1S9zsPcUBFi"
      },
      "source": [
        "**QUESTION:** There are different types of BLAST. What does each one of them do?"
      ]
    },
    {
      "cell_type": "markdown",
      "metadata": {
        "id": "wWJ1jfAbM6QC"
      },
      "source": [
        "<figure>\n",
        "<center>\n",
        "<img src='https://raw.githubusercontent.com/pb3lab/ibm3202/master/images/phylo_03.png'/>\n",
        "</center>\n",
        "</figure>"
      ]
    },
    {
      "cell_type": "markdown",
      "metadata": {
        "id": "9tzgc-4_jlgC"
      },
      "source": [
        "2. The results from this BLAST are shown below. It is important to note that the first hit is actually our query sequence: **2KIU**. Also, all other sequences have similar 4-character codes.\n",
        "\n",
        "  If you remember from our previous tutorial on protein structure visualization using **py3Dmol**, these 4-character codes correspond to **Protein Data Bank (PDB)** accession IDs. These structures are always accompanied by a FASTA sequence of the crystallized protein.\n",
        "\n",
        "  We **strongly recommend** you to access the [PDB website](https://www.rcsb.org/) and analyze the information that is deposited for each one of these structures."
      ]
    },
    {
      "cell_type": "markdown",
      "metadata": {
        "id": "ktmXSPX1PXAP"
      },
      "source": [
        "<figure>\n",
        "<center>\n",
        "<img src='https://raw.githubusercontent.com/pb3lab/ibm3202/master/images/phylo_04.png'/>\n",
        "</center>\n",
        "</figure>"
      ]
    },
    {
      "cell_type": "markdown",
      "metadata": {
        "id": "auv671TTDIoo"
      },
      "source": [
        "3. We will download some of these sequences for our work. To collect these sequences for future analysis (e.g. multiple sequence alignments) we need to select the sequences that we would like to download, click on **Download** and select the **FASTA (complete sequences)** option. Then, you can either upload this file or copy these sequences onto a new file in Google Colab.\n",
        "\n",
        "  Below, we also show how to directly download these sequences into Google Colab using _**wget**_."
      ]
    },
    {
      "cell_type": "code",
      "metadata": {
        "id": "YqWWooitkN5i"
      },
      "source": [
        "#Downloading a fasta sequence from NCBI using wget\n",
        "#and showing the sequence using cat\n",
        "%%bash\n",
        "wget -O 2KIU_A.fa https://www.ncbi.nlm.nih.gov/search/api/sequence/2KIU_A/?report=fasta\n",
        "cat 2KIU_A.fa"
      ],
      "execution_count": null,
      "outputs": []
    },
    {
      "cell_type": "markdown",
      "metadata": {
        "id": "SUCAF8HNkOn8"
      },
      "source": [
        "**QUESTION:** Which parameters from BLAST would be important to decide which sequences to collect and which sequences to discard? Are we able to include more sequences?"
      ]
    },
    {
      "cell_type": "markdown",
      "metadata": {
        "id": "Z-RxyyoYkfoV"
      },
      "source": [
        "4. If you opted to download the sequences directly within Google Colab, we need to concatenate each file into a single file as shown below.\n",
        "\n",
        "  We often recommend to change the label (**>**; the first line in FASTA file) of each sequence to something short and easy to recognise before subsequent analysis."
      ]
    },
    {
      "cell_type": "code",
      "metadata": {
        "id": "wPAkJnQhqTFO"
      },
      "source": [
        "##Creating a FASTA file with all downloaded sequences\n",
        "%%bash\n",
        "cat *.fa > multi.fasta\n",
        "cat multi.fasta"
      ],
      "execution_count": null,
      "outputs": []
    },
    {
      "cell_type": "markdown",
      "metadata": {
        "id": "al-iSDTlk02T"
      },
      "source": [
        "**💡 HINT:** Please note that we are using the PDB protein database only for the purposes of this tutorial, as it has a limited number of protein sequences (due to the limited number of structures). However, you might find the use of another database more suitable for your work with your own protein or DNA sequences, as they contain a higher number of sequences, hence a higher sequence variability/redundancy."
      ]
    },
    {
      "cell_type": "markdown",
      "metadata": {
        "id": "tCAjEWmahx3T"
      },
      "source": [
        "## Part I.B - Retrieve Fox protein sequences using biopython"
      ]
    },
    {
      "cell_type": "markdown",
      "metadata": {
        "id": "uysnl6lrW2rb"
      },
      "source": [
        "Biopython is an excellent companion for working with DNA and protein sequences and also with structures. Here, we will show how to use it for retrieving Fox protein sequences.\n",
        "\n",
        "1. First, we will start by using _Entrez_ to retrieve the sequence of accession code **2KIU_A** in FASTA format and _SeqIO_ to be able to read, parse and/or write this sequence. Besides downloading our sequence, we will also store the sequence into a string (here, termed as _aaseq_) for its subsequent use in this tutorial."
      ]
    },
    {
      "cell_type": "code",
      "metadata": {
        "id": "vt1ke8upXSl9"
      },
      "source": [
        "from Bio import SeqIO, Entrez\n",
        "#Setting up your email to be able to use Entrez\n",
        "Entrez.email = 'your.email@uc.cl'\n",
        "#Here, we set up a temporary handle with our downloaded sequence in fasta format\n",
        "temp = Entrez.efetch(db=\"protein\",rettype=\"fasta\",id=\"2KIU_A\")\n",
        "#Creating a fasta file to write our downloaded sequence\n",
        "aaseq_out = open(\"2KIU_A.fasta\",'w')\n",
        "#Reading the sequence information as a string in fasta format\n",
        "aaseq = SeqIO.read(temp, format=\"fasta\")\n",
        "#Writing the sequence record in fasta format\n",
        "SeqIO.write(aaseq,aaseq_out,\"fasta\")\n",
        "#Closing both the temp handle and the FASTA file\n",
        "temp.close()\n",
        "aaseq_out.close()"
      ],
      "execution_count": null,
      "outputs": []
    },
    {
      "cell_type": "markdown",
      "metadata": {
        "id": "klOzI65TXfJ6"
      },
      "source": [
        "2. What is great about _SeqIO_ is that you can use it to manipulate your sequence (e.g. sorting, changing formats, etc) and also to print information about your sequence, such as its description, sequence and accession ID.\n",
        "\n",
        "  You can try these commands below by first writing **\"aaseq.\"** and then selecting one of the autocomplete options suggested by Google Colab. With this information, try to obtain the information requested below."
      ]
    },
    {
      "cell_type": "code",
      "metadata": {
        "id": "gy8YLQM3Z151"
      },
      "source": [
        "#Printing the number of amino acids as an example\n",
        "print(\"Sequence length (aa):\")\n",
        "print(len(aaseq))"
      ],
      "execution_count": null,
      "outputs": []
    },
    {
      "cell_type": "code",
      "metadata": {
        "id": "KjE6JtzTaXD1"
      },
      "source": [
        "#Printing the description of the sequence\n",
        "print(\"The description of the sequence is:\")\n",
        "#INSERT YOUR OWN COMMAND HERE\n",
        "\n",
        "#Printing the accession ID of the sequence\n",
        "print(\"The ID of the sequence is:\")\n",
        "#INSERT YOUR OWN COMMAND HERE\n",
        "\n",
        "#Printing the sequence\n",
        "print(\"The sequence is:\")\n",
        "#INSERT YOUR OWN COMMAND HERE"
      ],
      "execution_count": null,
      "outputs": []
    },
    {
      "cell_type": "markdown",
      "metadata": {
        "id": "3bQo87E1lmfR"
      },
      "source": [
        "**💡 HINT:** If you only have a protein/nucleic sequence instead of an accession ID, you can store the sequence in a string using the _**Seq**_ function as shown below."
      ]
    },
    {
      "cell_type": "code",
      "metadata": {
        "id": "yOJ6ou9lj0ef"
      },
      "source": [
        "#In case you do not have an accession ID, but just a sequence\n",
        "from Bio.Seq import Seq\n",
        "my_seq = Seq(\"AEVRPPFTYASLIRQAILESPEKQLTLNEIYNWFTRMFPYFRRNAATWKNAVRHNLSLHKYFVRVENVKGAVWTVDEVEFQKRRPQK\")"
      ],
      "execution_count": null,
      "outputs": []
    },
    {
      "cell_type": "markdown",
      "metadata": {
        "id": "HnVcH7l4izF2"
      },
      "source": [
        "3. Once we have already stored the information of our query sequence in a string, we can use it to perform a BLAST search inside Google Colab via biopython through _NCBIWWW_.\n",
        "\n",
        "  The code cell bellow specifies the blast program **blastp**, the database **pdb** and the query sequence. This process should not take longer than 2 min.\n",
        "\n",
        "  **💡 HINT:** Please note that we are using the PDB protein database only for the purposes of this tutorial, as it has a limited number of protein sequences (due to the limited number of structures). However, you might find the use of another database more suitable for your work with your own protein or DNA sequences, as they contain a higher number of sequences, hence a higher sequence variability/redundancy. For the purposes of this tutorial, we are also specifying to retrieve sequences only belonging to humans. "
      ]
    },
    {
      "cell_type": "code",
      "metadata": {
        "id": "ChxitIMEkw8E"
      },
      "source": [
        "#Using biopython to perform a blast search\n",
        "%%time\n",
        "from Bio.Blast import NCBIWWW\n",
        "#NCBIWWW.qblast(program, database, sequence)\n",
        "result_handle = NCBIWWW.qblast(\"blastp\", \"pdb\", aaseq.seq, entrez_query='human')"
      ],
      "execution_count": null,
      "outputs": []
    },
    {
      "cell_type": "markdown",
      "metadata": {
        "id": "DC3IwSuimbaW"
      },
      "source": [
        "4. In order to parse this data, we need to store it in a handle for post-processing using _NCBIXML_, as shown below:"
      ]
    },
    {
      "cell_type": "code",
      "metadata": {
        "id": "MZozLVEcnfA1"
      },
      "source": [
        "#Read the results in XML format for parsing BLAST records\n",
        "from Bio.Blast import NCBIXML\n",
        "blast_record = NCBIXML.read(result_handle)\n",
        "#This is required to reset the searches and start over again\n",
        "result_handle.close()"
      ],
      "execution_count": null,
      "outputs": []
    },
    {
      "cell_type": "markdown",
      "metadata": {
        "id": "V7qRGKKsn_UY"
      },
      "source": [
        "5. _NCBIXML_ enables data manipulation similarly to what we saw before for _SeqIO_. In the following code cell, try to obtain the BLAST **hit id**, sequence **length** and **expect**-value or e-value for each high-scoring pair (HSP), using again the autocomplete function of Google Colab."
      ]
    },
    {
      "cell_type": "code",
      "metadata": {
        "id": "3hnxPKj-oqa1"
      },
      "source": [
        "#Testing the functions of NCBIXML parsing\n",
        "for alignment in blast_record.alignments:\n",
        "  for hsp in alignment.hsps:\n",
        "    #Example with the accession code\n",
        "    print(\"Hit ID:\")\n",
        "    print(alignment.hit_id)\n",
        "    #Now try it yourself for printing the sequence lenght\n",
        "    print(\"Hit sequence length:\")\n",
        "    #INSERT YOUR OWN COMMAND HERE\n",
        "    print()\n",
        "    \n",
        "\n",
        "    #Now print the e-value for each hit\n",
        "    print(\"E-value:\")\n",
        "    #INSERT YOUR OWN COMMAND HERE\n",
        "    print()"
      ],
      "execution_count": null,
      "outputs": []
    },
    {
      "cell_type": "markdown",
      "metadata": {
        "id": "VvWpHiceqNi5"
      },
      "source": [
        "6. We can use all these functions to print a BLAST-like briefing of the results, and to even filter the results according to parameters such as the sequence identity, coverage and/or e-value. **Carefully examine the commands below to achieve this and the resulting output.**"
      ]
    },
    {
      "cell_type": "code",
      "metadata": {
        "id": "atHlk0A-iRtZ"
      },
      "source": [
        "#Here, we show how we can set a sequence identity cut-off\n",
        "#Many other cut-offs can be employed!\n",
        "PIDcut=1.00\n",
        "#Printing all BLAST parameters similarly to the website\n",
        "for alignment in blast_record.alignments:\n",
        "  for hsp in alignment.hsps:\n",
        "#Here, we add a condition to only print hits equal or less than a PID cutoff\n",
        "    if(hsp.identities/hsp.align_length) <= PIDcut:\n",
        "      print(\"Accession code:\", alignment.hit_id)\n",
        "      print(\"Sequence length:\", alignment.length)\n",
        "      print(\"Alignment length:\", hsp.align_length)\n",
        "      print(\"E-value:\", hsp.expect)\n",
        "#The following command calculates the sequence identity relative to\n",
        "#the length of the alignment\n",
        "      print(\"Sequence Identity [%]:\", \"{:.2f}\".format(100*hsp.identities/hsp.align_length))\n",
        "#The following command calculates the sequence coverage relative to\n",
        "#the lenght of the sequence\n",
        "      print(\"Sequence Coverage [%]:\", \"{:.2f}\".format(100*sum(c.isalpha() for c in hsp.query)/len(aaseq)))\n",
        "      print()\n",
        "#Here, we print the first 60 characters of the query and hit and their matches\n",
        "      print(\"query:\", hsp.query[0:60] + \"...\")\n",
        "      print(\"      \", hsp.match[0:60] + \"...\")\n",
        "      print(\"sbjct:\", hsp.sbjct[0:60] + \"...\")\n",
        "      print()\n"
      ],
      "execution_count": null,
      "outputs": []
    },
    {
      "cell_type": "markdown",
      "metadata": {
        "id": "w_XmaOzfsYgJ"
      },
      "source": [
        "**QUESTION:** Which parameters from BLAST would be important to decide which sequences to collect and which sequences to discard? Are we able to include more sequences?"
      ]
    },
    {
      "cell_type": "markdown",
      "metadata": {
        "id": "4cKEj6ApscwF"
      },
      "source": [
        "**📚 HOMEWORK:** Copy the code cell above and edit it to add other filters, such as a minimum E-value and sequence coverage."
      ]
    },
    {
      "cell_type": "markdown",
      "metadata": {
        "id": "9IwBZmXOtmc5"
      },
      "source": [
        "7. After the BLAST search and filtering, we would like to retrieve all sequences that match our selection criteria. Here, we opted to download the top 20 sequences, but you can use filters such as minimum sequence coverage, minimum e-value and maximum PID to limit your output sequences."
      ]
    },
    {
      "cell_type": "code",
      "metadata": {
        "id": "NWaDVmpp3JDx"
      },
      "source": [
        "#Setting up your email to be able to use Entrez\n",
        "Entrez.email = 'your.email@uc.cl'\n",
        "\n",
        "#Generate a loop to write all sequences into an output file\n",
        "with open(\"sequences.fasta\", \"a\") as allhits_out:\n",
        "#Check how we are indicating to use the top 20 hits\n",
        "  for alignment in blast_record.alignments[:20]:\n",
        "    for hsp in alignment.hsps:\n",
        "    #Here, we add a condition to print only sequences below a PID cutoff\n",
        "      if(hsp.identities/len(hsp.match)) <= PIDcut:\n",
        "        print(\"Fetching protein sequence:\", alignment.hit_id)\n",
        "        fetch = Entrez.efetch(db=\"protein\", id=alignment.hit_id, rettype=\"fasta\")\n",
        "        #Reading the sequence stored in the temporary string in fasta format\n",
        "        allhits_seqs = SeqIO.read(fetch, format=\"fasta\")\n",
        "        #Writing the sequence and its ID in fasta format\n",
        "        SeqIO.write(allhits_seqs,allhits_out,\"fasta\")\n",
        "        fetch.close()\n",
        "#Closing the efetch and file\n",
        "allhits_out.close()"
      ],
      "execution_count": null,
      "outputs": []
    },
    {
      "cell_type": "markdown",
      "metadata": {
        "id": "9h_NN5COWGjo"
      },
      "source": [
        "#Part II - Obtain and edit a Multiple Sequence Alignment (MSA) using MAFFT and biopython"
      ]
    },
    {
      "cell_type": "markdown",
      "metadata": {
        "id": "bEM7r3aL87xu"
      },
      "source": [
        "Once BLAST is resolved, we can proceeed with the **Multiple Sequence Alignment (MSA)**. In this case, we will first employ **MAFFT** to align all retrieved sequences.\n",
        "\n",
        "1. To perform a MSA alignment using MAFFT, we can again use the biopython _Bio.Align.Applications_ wrapper as shown in the code cell below."
      ]
    },
    {
      "cell_type": "code",
      "metadata": {
        "id": "ql6daJM9bMuS"
      },
      "source": [
        "from Bio.Align.Applications import MafftCommandline\n",
        "mafft_cline=MafftCommandline(input=\"sequences.fasta\")\n",
        "print(mafft_cline)\n",
        "stdout, stderr = mafft_cline()\n",
        "with open(\"aligned.fasta\", \"w\") as handle:\n",
        "  handle.write(stdout)\n",
        "from Bio import AlignIO\n",
        "align = AlignIO.read(\"aligned.fasta\", \"fasta\")"
      ],
      "execution_count": null,
      "outputs": []
    },
    {
      "cell_type": "markdown",
      "metadata": {
        "id": "4_wbJAK9-Bku"
      },
      "source": [
        "2. The result from this algorithm, which is an extension of the **Pairwise Alignment Algorithms** we discussed during Lectures, can be seen in an online MSA viewer such as [MSAviewer](http://msa.biojs.net/app/) (might also work in this [link](http://jsbin.com/norowuvoqo/3/embed?output)\\). Our generated MSA is shown below."
      ]
    },
    {
      "cell_type": "markdown",
      "metadata": {
        "id": "NuA6ELHgzLfz"
      },
      "source": [
        "<figure>\n",
        "<center>\n",
        "<img src='https://raw.githubusercontent.com/pb3lab/ibm3202/master/images/phylo_05.png'/>\n",
        "</center>\n",
        "</figure>"
      ]
    },
    {
      "cell_type": "markdown",
      "metadata": {
        "id": "exUsc7YR-dXe"
      },
      "source": [
        "3. As you can see, the sequences are aligned, as many residues that are conserved between different sequences occupy the same columns within the alignment. However, **we can also see\n",
        "some sequences that are longer on the ends of the protein**. These ends will contribute nothing to the alignment, as there is nothing to compare them to. Therefore, we will trim the sequences on both N-and C-ends by selecting the regions we want to eliminate.\n",
        "\n",
        "  Ideally, you would manually correct the alignment and trim the ends of the sequences, and **we encourage you to do it**. Due to time restrictions, we include a script below that trims the N- and C-ends of the alignment based on finding the first and lasts columns of the MSA without any gaps.\n"
      ]
    },
    {
      "cell_type": "code",
      "metadata": {
        "id": "cPgR1wuGzHWL"
      },
      "source": [
        "import sys\n",
        "from Bio import AlignIO\n",
        "aln = AlignIO.read(\"aligned.fasta\", \"fasta\")\n",
        "\n",
        "for fcol in range(aln.get_alignment_length()):\n",
        "  if not \"-\" in aln[:, fcol]:\n",
        "    position1 = fcol\n",
        "    print(\"First full column is {}\".format(fcol))\n",
        "    break\n",
        "for lcol in reversed(range(aln.get_alignment_length())):\n",
        "  if not \"-\" in aln[:, lcol]:\n",
        "    position2 = lcol\n",
        "    print(\"Last full column is {}\".format(lcol))\n",
        "    break\n",
        "\n",
        "print(\"New alignment:\")\n",
        "print(aln[:, position1:position2])\n",
        "\n",
        "with open(\"aligned_trimmed.fasta\", \"w\") as handle:\n",
        "  count = (SeqIO.write(aln[:, position1:position2], handle, \"fasta\"))\n",
        "\n",
        "trim = AlignIO.read(\"aligned_trimmed.fasta\", \"fasta\")"
      ],
      "execution_count": null,
      "outputs": []
    },
    {
      "cell_type": "markdown",
      "metadata": {
        "id": "uwIFOU8L_rAg"
      },
      "source": [
        "4. We also need to **make sure that there are no duplicated sequences included in it**. Having redundant information does not have any benefit for the phylogenetic analysis that we are pursuing here.\n",
        "\n",
        "  Do we have duplicated sequences? We can rapidly generate a distance matrix based on the pairwise differences between all sequences in the alignment file using the biopython _DistanceCalculator_ tool. Thus, a pair of sequences with 0.0 differences would correspond to equivalent sequences (100% sequence identity)."
      ]
    },
    {
      "cell_type": "code",
      "metadata": {
        "id": "xm7b8rCAAC8O"
      },
      "source": [
        "from Bio.Phylo.TreeConstruction import DistanceCalculator\n",
        "from Bio import AlignIO\n",
        "aln = AlignIO.read(open('aligned_trimmed.fasta'), 'fasta')\n",
        "calculator = DistanceCalculator('identity')\n",
        "dm = calculator.get_distance(aln)\n",
        "print(dm)"
      ],
      "execution_count": null,
      "outputs": []
    },
    {
      "cell_type": "markdown",
      "metadata": {
        "id": "9x1cNdED0rgb"
      },
      "source": [
        "5. There are suitable programs to eliminate the duplicated sequences that you detected in the exercise above, such as **CD-HIT**, but here we opted to directly execute another script that compares the sequences in the alignment and eliminates the duplicated ones."
      ]
    },
    {
      "cell_type": "code",
      "metadata": {
        "id": "XcPGJREX0057"
      },
      "source": [
        "#Sequence cleaner script\n",
        "#Modified from https://peterjc.github.io/wiki/Sequence_Cleaner\n",
        "from Bio import SeqIO\n",
        "\n",
        "def sequence_cleaner(fasta_file, min_length=0):\n",
        "  # Create our hash table to add the sequences\n",
        "  sequences = {}\n",
        "  # Using the Biopython fasta parse we can read our fasta input\n",
        "  for seq_record in SeqIO.parse(fasta_file, \"fasta\"):\n",
        "    # Take the current sequence\n",
        "    sequence = str(seq_record.seq).upper()\n",
        "    # Check if the current sequence is according to the user parameters\n",
        "    if (len(sequence) >= min_length):\n",
        "      # If the sequence passed in the test \"is it clean?\" and it isn't in the\n",
        "      # hash table, the sequence and its id are going to be in the hash\n",
        "        if sequence not in sequences:\n",
        "          sequences[sequence] = seq_record.id\n",
        "      # If it is already in the hash table, we're just gonna concatenate the ID\n",
        "      # of the current sequence to another one that is already in the hash table\n",
        "        else:\n",
        "          sequences[sequence] += \"_\" + seq_record.id\n",
        "\n",
        "  # Write the clean sequences\n",
        "  # Create a file in the same directory where you ran this script\n",
        "  with open(\"clear_\" + fasta_file, \"w+\") as output_file:\n",
        "  # Just read the hash table and write on the file as a fasta format\n",
        "    for sequence in sequences:\n",
        "      output_file.write(\">\" + sequences[sequence] + \"\\n\" + sequence + \"\\n\")\n",
        "  print(\"CLEAN!!!\\nPlease check clear_\" + fasta_file)"
      ],
      "execution_count": null,
      "outputs": []
    },
    {
      "cell_type": "code",
      "metadata": {
        "id": "fQYoHOUK1BnK"
      },
      "source": [
        "sequence_cleaner('aligned_trimmed.fasta', 0)"
      ],
      "execution_count": null,
      "outputs": []
    },
    {
      "cell_type": "markdown",
      "metadata": {
        "id": "lSIIvNPzAktp"
      },
      "source": [
        "**QUESTION:** What would happen with our phylogenetic analysis and phylogenetic tree if we did not delete these duplicated sequences?\n",
        "\n",
        "6. Our aligned, trimmed and curated MSA looks as shown below:"
      ]
    },
    {
      "cell_type": "markdown",
      "metadata": {
        "id": "KYYVNxqg521o"
      },
      "source": [
        "\n",
        "<figure>\n",
        "<center>\n",
        "<img src='https://raw.githubusercontent.com/pb3lab/ibm3202/master/images/phylo_06.png'/>\n",
        "</center>\n",
        "</figure>"
      ]
    },
    {
      "cell_type": "markdown",
      "metadata": {
        "id": "4JH1AQWch94m"
      },
      "source": [
        "#Part III - Phylogenetic inference and ancestral sequence reconstruction using RAxML"
      ]
    },
    {
      "cell_type": "markdown",
      "metadata": {
        "id": "9AX2DwfeBs0y"
      },
      "source": [
        "We will use our final, trimmed and filtered alignment to infer the phylogenetic relationships of our sequences with the **heuristic** tree-searching method of **RAxML** using the **Maximum Likelihood (ML)** optimality criterion.\n",
        "\n",
        "While we already discussed about some of the phylogenetic methods as well as evolutionary models during our Lecture, **we invite you again to read the Lecture Appendix on ML.**\n",
        "\n",
        "What we did not discuss was that the evolutionary models could also incorporate additional parameters, such as invariant sites (conservation) or variations in the substitution rates across sites. For example, **initiation codons (typically, ATG)** may not be free to vary at all. Therefore, we should make such sites invariant. On the other hand, we know that positions on the interior of a protein evolve more slowly that surface residues, therefore substitutions have **varying rates** depending on the position of these residues. In the case of variation, modeling these varying rates is computationally consuming, thus a well-behaved, mathematically tractable **gamma distribution** is used for modeling these rate variations."
      ]
    },
    {
      "cell_type": "markdown",
      "metadata": {
        "id": "ohAIWzroCvGg"
      },
      "source": [
        "1. Now we will starting doing some ML phylogenetics, but **which model should we use?** Well, ML has the advantage that we can use the **log-likelihood** to infer which evolutionary model is more suitable for the alignment being used (neat, isn’t it?). This is implemented in the **ModelTest-NG** program and can be used as follows:\n"
      ]
    },
    {
      "cell_type": "code",
      "metadata": {
        "id": "klKC-g6dCKqy"
      },
      "source": [
        "!modeltest-ng -i clear_aligned_trimmed.fasta -d aa"
      ],
      "execution_count": null,
      "outputs": []
    },
    {
      "cell_type": "markdown",
      "metadata": {
        "id": "FRmZhhB67_ep"
      },
      "source": [
        "The result will look very complex and unreadable. However, the models are selected according to **AICc**, which determines the suitability of a given model if it best-minimize **-lnL** with the smallest number of parameters. Here, **lnL** is the log-likelihood, with its negative value used as the minimization target during model selection. **In our particular case, the best model turned out as LG+G4**, or the **Le-Gascuel model** with **Gamma** variation"
      ]
    },
    {
      "cell_type": "markdown",
      "metadata": {
        "id": "w1eiPJIF90dU"
      },
      "source": [
        "2. Now, we can use our final MSA and this evolutionary model to perform our first phylogenetic analysis using **RAxML-NG**"
      ]
    },
    {
      "cell_type": "code",
      "metadata": {
        "id": "FHKS7xYHEVh_"
      },
      "source": [
        "!raxml-ng --msa clear_aligned_trimmed.fasta --model LG+G4 --prefix T1 --threads 2"
      ],
      "execution_count": null,
      "outputs": []
    },
    {
      "cell_type": "markdown",
      "metadata": {
        "id": "tS0DiOPc-jg7"
      },
      "source": [
        "3. We can again use biopython to see the results of our phylogenetic inference using the _Phylo_ tool."
      ]
    },
    {
      "cell_type": "code",
      "metadata": {
        "id": "f-elKCfF-s8n"
      },
      "source": [
        "from Bio import Phylo\n",
        "tree = Phylo.read(\"T1.raxml.bestTree\", \"newick\")\n",
        "Phylo.draw(tree)"
      ],
      "execution_count": null,
      "outputs": []
    },
    {
      "cell_type": "markdown",
      "metadata": {
        "id": "Eecsg5R_-1GS"
      },
      "source": [
        "**QUESTION:** How many clades do you see? How many common ancestors there are? Who are the members of the clade containing our query sequence?"
      ]
    },
    {
      "cell_type": "markdown",
      "metadata": {
        "id": "llzvGVk8EadP"
      },
      "source": [
        "4. Now we need to test the reliability (reproducibility) of our phylogenetic tree using the **boostrapping method** that we discussed during our Lectures. Remember that this is not part of the tree construction method, but a phylogeny test.\n",
        "\n",
        "  While usually 1000-2000 bootstrap replicates are suggested for determining the confidence of the phylogenetic tree, RAxML also has a so-called **bootstopping** method that determines how many bootstrap replicates are required to obtain stable support values. However, for a speedy tutorial, we have requested 100 boostrap replicates only."
      ]
    },
    {
      "cell_type": "code",
      "metadata": {
        "id": "Ov41LC47BUNe"
      },
      "source": [
        "!raxml-ng --bootstrap --msa T1.raxml.rba --model LG+G4 --prefix T2 --threads 2 --bs-tree 100"
      ],
      "execution_count": null,
      "outputs": []
    },
    {
      "cell_type": "markdown",
      "metadata": {
        "id": "jKPkOtxjE2ap"
      },
      "source": [
        "**QUESTION:** A reliable clade should have bootstrapping values **> 70**. What would a bootstrapping value of 70 mean?\n",
        "\n",
        "**💡 HINT:** You can still check the convergence of the boostrapping test afterwards by executing the following command:\n",
        "\n",
        "```\n",
        "!raxml-ng --bsconverge --bs-trees T2.raxml.bootstraps --prefix Test --threads 2 --bs-cutoff 0.03\n",
        "```\n",
        "\n",
        "In practice, a convergence cutoff value of 3% should be sufficient in most cases.\n"
      ]
    },
    {
      "cell_type": "markdown",
      "metadata": {
        "id": "IMWzFYCJCnaR"
      },
      "source": [
        "5. Now, we will map the support values obtained from the boostrapping test onto the best-scoring ML tree on the original MSA. Once you ran the cell code below, use the Phylo package again to show the phylogenetic tree with its bootstrapping values."
      ]
    },
    {
      "cell_type": "code",
      "metadata": {
        "id": "3Rr3dZmWHDVV"
      },
      "source": [
        "!raxml-ng --support --tree T1.raxml.bestTree --bs-trees T2.raxml.bootstraps --prefix T3 --threads 2"
      ],
      "execution_count": null,
      "outputs": []
    },
    {
      "cell_type": "code",
      "metadata": {
        "id": "9uwp7HC7ClwT"
      },
      "source": [
        "#Here, use the biopython Phylo package again!\n"
      ],
      "execution_count": null,
      "outputs": []
    },
    {
      "cell_type": "markdown",
      "metadata": {
        "id": "j6Q-WDyIH8K9"
      },
      "source": [
        "6. With this, we are done with inferring our phylogenetic trees. Also, we can get and download the **YourFileName.raxml.bestTree** file (which is the tree file) an see it in the visualizing website [**iTOL**](https://itol.embl.de/). \n",
        "\n",
        "  At the top of this site, there is an **UPLOAD** button. We can press the button and upload the besttree file to nicely draw our phylogenetic tree."
      ]
    },
    {
      "cell_type": "markdown",
      "metadata": {
        "id": "Lnl-9luRIgY2"
      },
      "source": [
        "7. We will now **use the ML tree** to obtain an estimation of the **ancestral sequence** for the FoxP clade. The DNA encoding these protein sequences are usually synthesized by researchers to evaluate their structure and function and allowing inference of the cellular, environmental and functional contexts of ancestral and extant organisms.\n",
        "\n",
        "  Since we already have the MSA and the ML tree, we do not need anything extra to obtain the ancestral sequences at each of the internal nodes. Just use the code below.\n"
      ]
    },
    {
      "cell_type": "code",
      "metadata": {
        "id": "GmxWkKnJiLaO"
      },
      "source": [
        "!raxml-ng --ancestral --msa clear_aligned_trimmed.fasta --tree T1.raxml.bestTree --model LG+G4 --prefix ASR"
      ],
      "execution_count": null,
      "outputs": []
    },
    {
      "cell_type": "markdown",
      "metadata": {
        "id": "7cgzhP-dJN6b"
      },
      "source": [
        "8. Now, open the **YourFileName.raxml.ancestralStates** to see the most probable sequences based on the probabilities for each position of the alignment (which are contained in the **YourFileName.raxml.ancestralProbs** file).\n",
        "\n",
        "  But which sequence correspond to which node? You can now draw the **YourFileName.raxml.ancestralTree** to check the numbers of each node and determine which sequence correspond to the FoxP clade."
      ]
    },
    {
      "cell_type": "code",
      "metadata": {
        "id": "zBvCa7KGKGEL"
      },
      "source": [
        "#Here, se the biopython Phylo package again!\n",
        "from Bio import Phylo\n",
        "tree = Phylo.read(\"ASR.raxml.ancestralTree\", \"newick\")\n",
        "Phylo.draw(tree)"
      ],
      "execution_count": null,
      "outputs": []
    },
    {
      "cell_type": "markdown",
      "metadata": {
        "id": "jJj1pCHaK7BS"
      },
      "source": [
        "**📚 HOMEWORK:** Now, as a final exercise, please compare the sequence of the ancestral node for the FoxP clade with the sequences shown in the Overview for FoxP and for the FoxP homologs. Also, take a look at the structures of the different Fox homologs that you have in your alignment by searching for the accession codes in the [Protein Data Bank](https://www.rcsb.org). \n",
        "\n",
        "  Based on the information provided in the Overview of this tutorial, the phylogenetic analysis of FoxP proteins and their homologs, the reconstructed ancestral sequences for each node and your observations of the different structures that are included in your sequence alignment:\n",
        "\n",
        "1. Can we say something about the most probable oligomeric state of this protein based on this sequence?\n",
        "\n",
        "2. Can we say something about how this subfamily gained the ability to dimerize during the evolution of Fox proteins?\n",
        "\n",
        "3. Is there any element that we did not take into account that could significantly alter the results from our analysis?\n",
        "\n",
        "\n",
        "**This is the end of the third tutorial. Good science!**"
      ]
    }
  ]
}